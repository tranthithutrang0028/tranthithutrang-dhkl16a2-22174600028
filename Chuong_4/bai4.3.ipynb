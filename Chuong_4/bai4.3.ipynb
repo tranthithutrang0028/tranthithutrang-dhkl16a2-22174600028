{
 "cells": [
  {
   "cell_type": "code",
   "execution_count": 2,
   "metadata": {},
   "outputs": [],
   "source": [
    "import numpy as np\n",
    "import pandas as pd"
   ]
  },
  {
   "cell_type": "markdown",
   "metadata": {},
   "source": [
    "Kết nối 2 series để tạo thành 1 DataFrame"
   ]
  },
  {
   "cell_type": "code",
   "execution_count": 3,
   "metadata": {},
   "outputs": [],
   "source": [
    "ser1 = pd.Series(list('abcedfghijklmnopqrstuvwxyz'))\n",
    "ser2 = pd.Series(np.arange(26))\n",
    "Series_df = pd.DataFrame({'List':ser1,'Arr':ser2})"
   ]
  },
  {
   "cell_type": "code",
   "execution_count": 4,
   "metadata": {},
   "outputs": [
    {
     "name": "stdout",
     "output_type": "stream",
     "text": [
      "   List  Arr\n",
      "0     a    0\n",
      "1     b    1\n",
      "2     c    2\n",
      "3     e    3\n",
      "4     d    4\n",
      "5     f    5\n",
      "6     g    6\n",
      "7     h    7\n",
      "8     i    8\n",
      "9     j    9\n",
      "10    k   10\n",
      "11    l   11\n",
      "12    m   12\n",
      "13    n   13\n",
      "14    o   14\n",
      "15    p   15\n",
      "16    q   16\n",
      "17    r   17\n",
      "18    s   18\n",
      "19    t   19\n",
      "20    u   20\n",
      "21    v   21\n",
      "22    w   22\n",
      "23    x   23\n",
      "24    y   24\n",
      "25    z   25\n"
     ]
    }
   ],
   "source": [
    "print(Series_df)"
   ]
  },
  {
   "cell_type": "code",
   "execution_count": null,
   "metadata": {},
   "outputs": [],
   "source": []
  },
  {
   "cell_type": "code",
   "execution_count": null,
   "metadata": {},
   "outputs": [],
   "source": []
  },
  {
   "cell_type": "code",
   "execution_count": null,
   "metadata": {},
   "outputs": [],
   "source": []
  },
  {
   "cell_type": "code",
   "execution_count": null,
   "metadata": {},
   "outputs": [],
   "source": []
  }
 ],
 "metadata": {
  "kernelspec": {
   "display_name": "Python 3",
   "language": "python",
   "name": "python3"
  },
  "language_info": {
   "codemirror_mode": {
    "name": "ipython",
    "version": 3
   },
   "file_extension": ".py",
   "mimetype": "text/x-python",
   "name": "python",
   "nbconvert_exporter": "python",
   "pygments_lexer": "ipython3",
   "version": "3.10.10"
  }
 },
 "nbformat": 4,
 "nbformat_minor": 2
}
