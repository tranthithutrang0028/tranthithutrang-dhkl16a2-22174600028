{
 "cells": [
  {
   "cell_type": "code",
   "execution_count": 1,
   "metadata": {},
   "outputs": [],
   "source": [
    "import pandas as pd\n",
    "\n",
    "# Đọc dữ liệu từ file\n",
    "path_euro2020 = '/Users/nguyenxuanty/Documents/baitapchuong4/euro2012.csv'\n",
    "\n",
    "euro2012 = pd.read_csv(path_euro2020)\n",
    "\n"
   ]
  },
  {
   "cell_type": "code",
   "execution_count": 2,
   "metadata": {},
   "outputs": [
    {
     "name": "stdout",
     "output_type": "stream",
     "text": [
      "Gía trị cột Goals:\n",
      " 0      4\n",
      "1      4\n",
      "2      4\n",
      "3      5\n",
      "4      3\n",
      "5     10\n",
      "6      5\n",
      "7      6\n",
      "8      2\n",
      "9      2\n",
      "10     6\n",
      "11     1\n",
      "12     5\n",
      "13    12\n",
      "14     5\n",
      "15     2\n",
      "Name: Goals, dtype: int64\n"
     ]
    }
   ],
   "source": [
    "# in giá trị cột Goals\n",
    "print('Gía trị cột Goals:\\n',euro2012['Goals'])"
   ]
  },
  {
   "cell_type": "code",
   "execution_count": 3,
   "metadata": {},
   "outputs": [
    {
     "name": "stdout",
     "output_type": "stream",
     "text": [
      "Số đội tham gia Euro2012 là : 16\n"
     ]
    }
   ],
   "source": [
    "# có bao nhiêu đội tham gia Euro2012\n",
    "print('Số đội tham gia Euro2012 là :',euro2012.shape[0])"
   ]
  },
  {
   "cell_type": "code",
   "execution_count": 4,
   "metadata": {},
   "outputs": [
    {
     "name": "stdout",
     "output_type": "stream",
     "text": [
      "thông tin của Euro2012:\n",
      "     Unnamed: 0                 Team  Goals  Shots on target  Shots off target  \\\n",
      "0            0              Croatia      4               13                12   \n",
      "1            1       Czech Republic      4               13                18   \n",
      "2            2              Denmark      4               10                10   \n",
      "3            3              England      5               11                18   \n",
      "4            4               France      3               22                24   \n",
      "5            5              Germany     10               32                32   \n",
      "6            6               Greece      5                8                18   \n",
      "7            7                Italy      6               34                45   \n",
      "8            8          Netherlands      2               12                36   \n",
      "9            9               Poland      2               15                23   \n",
      "10          10             Portugal      6               22                42   \n",
      "11          11  Republic of Ireland      1                7                12   \n",
      "12          12               Russia      5                9                31   \n",
      "13          13                Spain     12               42                33   \n",
      "14          14               Sweden      5               17                19   \n",
      "15          15              Ukraine      2                7                26   \n",
      "\n",
      "   Shooting Accuracy % Goals-to-shots  Total shots (inc. Blocked)  \\\n",
      "0             51.90%           16.00%                          32   \n",
      "1             41.90%           12.90%                          39   \n",
      "2             50.00%           20.00%                          27   \n",
      "3             50.00%           17.20%                          40   \n",
      "4             37.90%            6.50%                          65   \n",
      "5             47.80%           15.60%                          80   \n",
      "6             30.70%           19.20%                          32   \n",
      "7             43.00%            7.50%                         110   \n",
      "8             25.00%            4.10%                          60   \n",
      "9             39.40%            5.20%                          48   \n",
      "10            34.30%            9.30%                          82   \n",
      "11            36.80%            5.20%                          28   \n",
      "12            22.50%           12.50%                          59   \n",
      "13            55.90%           16.00%                         100   \n",
      "14            47.20%           13.80%                          39   \n",
      "15            21.20%            6.00%                          38   \n",
      "\n",
      "    Hit Woodwork  Penalty goals  ...  Saves made  Saves-to-shots ratio  \\\n",
      "0              0              0  ...          13                81.30%   \n",
      "1              0              0  ...           9                60.10%   \n",
      "2              1              0  ...          10                66.70%   \n",
      "3              0              0  ...          22                88.10%   \n",
      "4              1              0  ...           6                54.60%   \n",
      "5              2              1  ...          10                62.60%   \n",
      "6              1              1  ...          13                65.10%   \n",
      "7              2              0  ...          20                74.10%   \n",
      "8              2              0  ...          12                70.60%   \n",
      "9              0              0  ...           6                66.70%   \n",
      "10             6              0  ...          10                71.50%   \n",
      "11             0              0  ...          17                65.40%   \n",
      "12             2              0  ...          10                77.00%   \n",
      "13             0              1  ...          15                93.80%   \n",
      "14             3              0  ...           8                61.60%   \n",
      "15             0              0  ...          13                76.50%   \n",
      "\n",
      "    Fouls Won  Fouls Conceded Offsides  Yellow Cards  Red Cards  Subs on  \\\n",
      "0          41              62        2             9          0        9   \n",
      "1          53              73        8             7          0       11   \n",
      "2          25              38        8             4          0        7   \n",
      "3          43              45        6             5          0       11   \n",
      "4          36              51        5             6          0       11   \n",
      "5          63              49       12             4          0       15   \n",
      "6          67              48       12             9          1       12   \n",
      "7         101              89       16            16          0       18   \n",
      "8          35              30        3             5          0        7   \n",
      "9          48              56        3             7          1        7   \n",
      "10         73              90       10            12          0       14   \n",
      "11         43              51       11             6          1       10   \n",
      "12         34              43        4             6          0        7   \n",
      "13        102              83       19            11          0       17   \n",
      "14         35              51        7             7          0        9   \n",
      "15         48              31        4             5          0        9   \n",
      "\n",
      "    Subs off  Players Used  \n",
      "0          9            16  \n",
      "1         11            19  \n",
      "2          7            15  \n",
      "3         11            16  \n",
      "4         11            19  \n",
      "5         15            17  \n",
      "6         12            20  \n",
      "7         18            19  \n",
      "8          7            15  \n",
      "9          7            17  \n",
      "10        14            16  \n",
      "11        10            17  \n",
      "12         7            16  \n",
      "13        17            18  \n",
      "14         9            18  \n",
      "15         9            18  \n",
      "\n",
      "[16 rows x 36 columns]\n"
     ]
    }
   ],
   "source": [
    "# in thông tin của Euro2012\n",
    "print('thông tin của Euro2012:\\n',euro2012)"
   ]
  },
  {
   "cell_type": "code",
   "execution_count": 5,
   "metadata": {},
   "outputs": [
    {
     "name": "stdout",
     "output_type": "stream",
     "text": [
      "df mới là :\n",
      "                    Team  Yellow Cards  Red Cards\n",
      "0               Croatia             9          0\n",
      "1        Czech Republic             7          0\n",
      "2               Denmark             4          0\n",
      "3               England             5          0\n",
      "4                France             6          0\n",
      "5               Germany             4          0\n",
      "6                Greece             9          1\n",
      "7                 Italy            16          0\n",
      "8           Netherlands             5          0\n",
      "9                Poland             7          1\n",
      "10             Portugal            12          0\n",
      "11  Republic of Ireland             6          1\n",
      "12               Russia             6          0\n",
      "13                Spain            11          0\n",
      "14               Sweden             7          0\n",
      "15              Ukraine             5          0\n"
     ]
    }
   ],
   "source": [
    "# tạo 1 df mới từ euro12 có tên là discipline chỉ chứa 3 cột 'Team','Yellow Cards','Red Cards'\n",
    "discipline = euro2012[['Team','Yellow Cards','Red Cards']]\n",
    "print('df mới là :\\n',discipline)"
   ]
  },
  {
   "cell_type": "code",
   "execution_count": 6,
   "metadata": {},
   "outputs": [
    {
     "name": "stdout",
     "output_type": "stream",
     "text": [
      "sau khi sắp xếp :\n",
      "                    Team  Yellow Cards  Red Cards\n",
      "7                 Italy            16          0\n",
      "10             Portugal            12          0\n",
      "13                Spain            11          0\n",
      "6                Greece             9          1\n",
      "0               Croatia             9          0\n",
      "9                Poland             7          1\n",
      "1        Czech Republic             7          0\n",
      "14               Sweden             7          0\n",
      "11  Republic of Ireland             6          1\n",
      "4                France             6          0\n",
      "12               Russia             6          0\n",
      "3               England             5          0\n",
      "8           Netherlands             5          0\n",
      "15              Ukraine             5          0\n",
      "2               Denmark             4          0\n",
      "5               Germany             4          0\n"
     ]
    }
   ],
   "source": [
    "# Sắp xếp discipline giảm dần theo 2 cột Yellow Cards','Red Cards'\n",
    "sap_xep_discipline = discipline.sort_values(by=['Yellow Cards','Red Cards'],ascending=[False,False])\n",
    "#ascending=[False, False] chỉ định sắp xếp giảm dần cho cả hai cột.\n",
    "print('sau khi sắp xếp :\\n',sap_xep_discipline)"
   ]
  },
  {
   "cell_type": "code",
   "execution_count": 7,
   "metadata": {},
   "outputs": [
    {
     "name": "stdout",
     "output_type": "stream",
     "text": [
      "Trung bình của Yellow Cards 7.4375\n",
      "các đội đã ghi hơn 6 bán là :\n",
      "     Unnamed: 0     Team  Goals  Shots on target  Shots off target  \\\n",
      "5            5  Germany     10               32                32   \n",
      "13          13    Spain     12               42                33   \n",
      "\n",
      "   Shooting Accuracy % Goals-to-shots  Total shots (inc. Blocked)  \\\n",
      "5             47.80%           15.60%                          80   \n",
      "13            55.90%           16.00%                         100   \n",
      "\n",
      "    Hit Woodwork  Penalty goals  ...  Saves made  Saves-to-shots ratio  \\\n",
      "5              2              1  ...          10                62.60%   \n",
      "13             0              1  ...          15                93.80%   \n",
      "\n",
      "    Fouls Won  Fouls Conceded Offsides  Yellow Cards  Red Cards  Subs on  \\\n",
      "5          63              49       12             4          0       15   \n",
      "13        102              83       19            11          0       17   \n",
      "\n",
      "    Subs off  Players Used  \n",
      "5         15            17  \n",
      "13        17            18  \n",
      "\n",
      "[2 rows x 36 columns]\n"
     ]
    }
   ],
   "source": [
    "#tính trung bình Yellow Cards\n",
    "mean_YellowCards = euro2012['Yellow Cards'].mean()\n",
    "print('Trung bình của Yellow Cards',mean_YellowCards)\n",
    "# Lọc các đội đã ghi hơn 6 bàn thắng\n",
    "print('các đội đã ghi hơn 6 bán là :\\n',euro2012[euro2012['Goals']>6])\n"
   ]
  },
  {
   "cell_type": "code",
   "execution_count": 8,
   "metadata": {},
   "outputs": [
    {
     "name": "stdout",
     "output_type": "stream",
     "text": [
      "   Unnamed: 0     Team  Goals  Shots on target  Shots off target  \\\n",
      "5           5  Germany     10               32                32   \n",
      "6           6   Greece      5                8                18   \n",
      "\n",
      "  Shooting Accuracy % Goals-to-shots  Total shots (inc. Blocked)  \\\n",
      "5            47.80%           15.60%                          80   \n",
      "6            30.70%           19.20%                          32   \n",
      "\n",
      "   Hit Woodwork  Penalty goals  ...  Saves made  Saves-to-shots ratio  \\\n",
      "5             2              1  ...          10                62.60%   \n",
      "6             1              1  ...          13                65.10%   \n",
      "\n",
      "   Fouls Won  Fouls Conceded Offsides  Yellow Cards  Red Cards  Subs on  \\\n",
      "5         63              49       12             4          0       15   \n",
      "6         67              48       12             9          1       12   \n",
      "\n",
      "   Subs off  Players Used  \n",
      "5        15            17  \n",
      "6        12            20  \n",
      "\n",
      "[2 rows x 36 columns]\n"
     ]
    }
   ],
   "source": [
    "#in các đội mà tên bắt đầu bằng 'G' \n",
    "print(euro2012[euro2012['Team'].str.startswith('G')])"
   ]
  },
  {
   "cell_type": "code",
   "execution_count": 10,
   "metadata": {},
   "outputs": [
    {
     "name": "stdout",
     "output_type": "stream",
     "text": [
      "7 cột đầu của euro là:     Unnamed: 0                 Team  Goals  Shots on target  Shots off target  \\\n",
      "0            0              Croatia      4               13                12   \n",
      "1            1       Czech Republic      4               13                18   \n",
      "2            2              Denmark      4               10                10   \n",
      "3            3              England      5               11                18   \n",
      "4            4               France      3               22                24   \n",
      "5            5              Germany     10               32                32   \n",
      "6            6               Greece      5                8                18   \n",
      "7            7                Italy      6               34                45   \n",
      "8            8          Netherlands      2               12                36   \n",
      "9            9               Poland      2               15                23   \n",
      "10          10             Portugal      6               22                42   \n",
      "11          11  Republic of Ireland      1                7                12   \n",
      "12          12               Russia      5                9                31   \n",
      "13          13                Spain     12               42                33   \n",
      "14          14               Sweden      5               17                19   \n",
      "15          15              Ukraine      2                7                26   \n",
      "\n",
      "   Shooting Accuracy % Goals-to-shots  \n",
      "0             51.90%           16.00%  \n",
      "1             41.90%           12.90%  \n",
      "2             50.00%           20.00%  \n",
      "3             50.00%           17.20%  \n",
      "4             37.90%            6.50%  \n",
      "5             47.80%           15.60%  \n",
      "6             30.70%           19.20%  \n",
      "7             43.00%            7.50%  \n",
      "8             25.00%            4.10%  \n",
      "9             39.40%            5.20%  \n",
      "10            34.30%            9.30%  \n",
      "11            36.80%            5.20%  \n",
      "12            22.50%           12.50%  \n",
      "13            55.90%           16.00%  \n",
      "14            47.20%           13.80%  \n",
      "15            21.20%            6.00%  \n"
     ]
    }
   ],
   "source": [
    "# in 7 cột đầu của euro12\n",
    "print('7 cột đầu của euro là:',euro2012.iloc[:,:7])\n",
    "#':' là chọn tất cả các dòng ; \":7 là chọn 7 cột đầu tiên\""
   ]
  },
  {
   "cell_type": "code",
   "execution_count": 13,
   "metadata": {},
   "outputs": [
    {
     "name": "stdout",
     "output_type": "stream",
     "text": [
      "in tất cả các cột trừ 3 cột cuối:\n",
      "     Unnamed: 0                 Team  Goals  Shots on target  Shots off target  \\\n",
      "0            0              Croatia      4               13                12   \n",
      "1            1       Czech Republic      4               13                18   \n",
      "2            2              Denmark      4               10                10   \n",
      "3            3              England      5               11                18   \n",
      "4            4               France      3               22                24   \n",
      "5            5              Germany     10               32                32   \n",
      "6            6               Greece      5                8                18   \n",
      "7            7                Italy      6               34                45   \n",
      "8            8          Netherlands      2               12                36   \n",
      "9            9               Poland      2               15                23   \n",
      "10          10             Portugal      6               22                42   \n",
      "11          11  Republic of Ireland      1                7                12   \n",
      "12          12               Russia      5                9                31   \n",
      "13          13                Spain     12               42                33   \n",
      "14          14               Sweden      5               17                19   \n",
      "15          15              Ukraine      2                7                26   \n",
      "\n",
      "   Shooting Accuracy % Goals-to-shots  Total shots (inc. Blocked)  \\\n",
      "0             51.90%           16.00%                          32   \n",
      "1             41.90%           12.90%                          39   \n",
      "2             50.00%           20.00%                          27   \n",
      "3             50.00%           17.20%                          40   \n",
      "4             37.90%            6.50%                          65   \n",
      "5             47.80%           15.60%                          80   \n",
      "6             30.70%           19.20%                          32   \n",
      "7             43.00%            7.50%                         110   \n",
      "8             25.00%            4.10%                          60   \n",
      "9             39.40%            5.20%                          48   \n",
      "10            34.30%            9.30%                          82   \n",
      "11            36.80%            5.20%                          28   \n",
      "12            22.50%           12.50%                          59   \n",
      "13            55.90%           16.00%                         100   \n",
      "14            47.20%           13.80%                          39   \n",
      "15            21.20%            6.00%                          38   \n",
      "\n",
      "    Hit Woodwork  Penalty goals  ...  Clean Sheets  Blocks  Goals conceded  \\\n",
      "0              0              0  ...             0      10               3   \n",
      "1              0              0  ...             1      10               6   \n",
      "2              1              0  ...             1      10               5   \n",
      "3              0              0  ...             2      29               3   \n",
      "4              1              0  ...             1       7               5   \n",
      "5              2              1  ...             1      11               6   \n",
      "6              1              1  ...             1      23               7   \n",
      "7              2              0  ...             2      18               7   \n",
      "8              2              0  ...             0       9               5   \n",
      "9              0              0  ...             0       8               3   \n",
      "10             6              0  ...             2      11               4   \n",
      "11             0              0  ...             0      23               9   \n",
      "12             2              0  ...             0       8               3   \n",
      "13             0              1  ...             5       8               1   \n",
      "14             3              0  ...             1      12               5   \n",
      "15             0              0  ...             0       4               4   \n",
      "\n",
      "    Saves made Saves-to-shots ratio  Fouls Won  Fouls Conceded  Offsides  \\\n",
      "0           13               81.30%         41              62         2   \n",
      "1            9               60.10%         53              73         8   \n",
      "2           10               66.70%         25              38         8   \n",
      "3           22               88.10%         43              45         6   \n",
      "4            6               54.60%         36              51         5   \n",
      "5           10               62.60%         63              49        12   \n",
      "6           13               65.10%         67              48        12   \n",
      "7           20               74.10%        101              89        16   \n",
      "8           12               70.60%         35              30         3   \n",
      "9            6               66.70%         48              56         3   \n",
      "10          10               71.50%         73              90        10   \n",
      "11          17               65.40%         43              51        11   \n",
      "12          10               77.00%         34              43         4   \n",
      "13          15               93.80%        102              83        19   \n",
      "14           8               61.60%         35              51         7   \n",
      "15          13               76.50%         48              31         4   \n",
      "\n",
      "    Yellow Cards  Red Cards  \n",
      "0              9          0  \n",
      "1              7          0  \n",
      "2              4          0  \n",
      "3              5          0  \n",
      "4              6          0  \n",
      "5              4          0  \n",
      "6              9          1  \n",
      "7             16          0  \n",
      "8              5          0  \n",
      "9              7          1  \n",
      "10            12          0  \n",
      "11             6          1  \n",
      "12             6          0  \n",
      "13            11          0  \n",
      "14             7          0  \n",
      "15             5          0  \n",
      "\n",
      "[16 rows x 33 columns]\n"
     ]
    }
   ],
   "source": [
    "#in tất cả các cột trừ 3 cột cuối\n",
    "print('in tất cả các cột trừ 3 cột cuối:\\n',euro2012.iloc[:,:-3])"
   ]
  },
  {
   "cell_type": "code",
   "execution_count": 17,
   "metadata": {},
   "outputs": [
    {
     "name": "stdout",
     "output_type": "stream",
     "text": [
      "                   Team  Goals Shooting Accuracy  Yellow Cards  Red Cards\n",
      "0               Croatia      4            51.90%             9          0\n",
      "1        Czech Republic      4            41.90%             7          0\n",
      "2               Denmark      4            50.00%             4          0\n",
      "3               England      5            50.00%             5          0\n",
      "4                France      3            37.90%             6          0\n",
      "5               Germany     10            47.80%             4          0\n",
      "6                Greece      5            30.70%             9          1\n",
      "7                 Italy      6            43.00%            16          0\n",
      "8           Netherlands      2            25.00%             5          0\n",
      "9                Poland      2            39.40%             7          1\n",
      "10             Portugal      6            34.30%            12          0\n",
      "11  Republic of Ireland      1            36.80%             6          1\n",
      "12               Russia      5            22.50%             6          0\n",
      "13                Spain     12            55.90%            11          0\n",
      "14               Sweden      5            47.20%             7          0\n",
      "15              Ukraine      2            21.20%             5          0\n"
     ]
    }
   ],
   "source": [
    "# in các cột Team,Goals,Shooting Accuracy, Yellow Cards,Red Cards\n",
    "print(euro2012[['Team','Goals','Shooting Accuracy','Yellow Cards','Red Cards']])"
   ]
  },
  {
   "cell_type": "code",
   "execution_count": 18,
   "metadata": {},
   "outputs": [
    {
     "name": "stdout",
     "output_type": "stream",
     "text": [
      "       Team Shooting Accuracy\n",
      "3   England            50.00%\n",
      "7     Italy            43.00%\n",
      "12   Russia            22.50%\n"
     ]
    }
   ],
   "source": [
    "# In các cột chỉ hiển thị 'Team','Shooting Accuracy' từ 'England','italy','Russia'\n",
    "print(euro2012.loc[euro2012['Team'].isin(['England', 'Italy', 'Russia']), ['Team', 'Shooting Accuracy']])"
   ]
  },
  {
   "cell_type": "code",
   "execution_count": null,
   "metadata": {},
   "outputs": [],
   "source": []
  }
 ],
 "metadata": {
  "kernelspec": {
   "display_name": "Python 3",
   "language": "python",
   "name": "python3"
  },
  "language_info": {
   "codemirror_mode": {
    "name": "ipython",
    "version": 3
   },
   "file_extension": ".py",
   "mimetype": "text/x-python",
   "name": "python",
   "nbconvert_exporter": "python",
   "pygments_lexer": "ipython3",
   "version": "3.10.10"
  }
 },
 "nbformat": 4,
 "nbformat_minor": 2
}
