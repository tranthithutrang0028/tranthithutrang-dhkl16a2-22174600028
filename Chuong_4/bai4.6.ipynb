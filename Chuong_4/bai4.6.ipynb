{
 "cells": [
  {
   "cell_type": "code",
   "execution_count": 1,
   "metadata": {},
   "outputs": [],
   "source": [
    "import pandas as pd\n",
    "import numpy as np"
   ]
  },
  {
   "cell_type": "code",
   "execution_count": null,
   "metadata": {},
   "outputs": [],
   "source": [
    "ser = pd.Series(np.take(list('abcdefgh'), np.random.randint(8, size=30)))\n",
    "ser"
   ]
  },
  {
   "cell_type": "markdown",
   "metadata": {},
   "source": [
    "Trên là đoạn code của 1 đối tượng Series trong thư viện Pandas :\n",
    "-'list('abcdefgh') : Tạo 1 danh sách chứa các kí tự a b c d e f g h\n",
    "\n",
    "-'np.random.randint(8, size=30)' : Sử dụng hàm 'randint' từ thư viện numpy để tạo 1 mảng ngẫu nhiên gồm 30 phần từ trong đó mỗi phần tử là 1 số nguyên ngẫu nhiên từ 0 đến 7\n",
    "\n",
    "-'np.take....' : Sử dụng hàm 'take' từ thư viện numpy để chọn các phần tử từ danh sách đã tạo ở bước đầu (list) bằng các chỉ số được sinh ra ở bước (random...) . VD: nếu số ngẫu nhiên là [0,3,4,5,6,7,2....] thì các kí tự tương ứng là ['a','d','e','f','g','h','c',...]"
   ]
  },
  {
   "cell_type": "markdown",
   "metadata": {},
   "source": [
    "Tính số lần xuất hiện của mõi giá trị duy nhất trong ser"
   ]
  },
  {
   "cell_type": "code",
   "execution_count": 10,
   "metadata": {},
   "outputs": [
    {
     "name": "stdout",
     "output_type": "stream",
     "text": [
      "g    7\n",
      "f    6\n",
      "h    6\n",
      "d    5\n",
      "e    2\n",
      "b    2\n",
      "c    1\n",
      "a    1\n",
      "Name: count, dtype: int64\n"
     ]
    }
   ],
   "source": [
    "print(ser.value_counts())"
   ]
  }
 ],
 "metadata": {
  "kernelspec": {
   "display_name": "Python 3",
   "language": "python",
   "name": "python3"
  },
  "language_info": {
   "codemirror_mode": {
    "name": "ipython",
    "version": 3
   },
   "file_extension": ".py",
   "mimetype": "text/x-python",
   "name": "python",
   "nbconvert_exporter": "python",
   "pygments_lexer": "ipython3",
   "version": "3.10.10"
  }
 },
 "nbformat": 4,
 "nbformat_minor": 2
}
