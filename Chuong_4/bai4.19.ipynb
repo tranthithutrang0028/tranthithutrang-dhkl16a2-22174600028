{
 "cells": [
  {
   "cell_type": "code",
   "execution_count": 2,
   "metadata": {},
   "outputs": [],
   "source": [
    "import pandas as pd\n",
    "import numpy as np\n",
    "fruit = pd.Series(np.random.choice(['apple','banana','carrot'],10))\n",
    "weights = pd.Series(np.linspace(1,10,10))"
   ]
  },
  {
   "cell_type": "code",
   "execution_count": 8,
   "metadata": {},
   "outputs": [
    {
     "name": "stdout",
     "output_type": "stream",
     "text": [
      "[1.0, 2.0, 3.0, 4.0, 5.0, 6.0, 7.0, 8.0, 9.0, 10.0]\n",
      "['carrot', 'banana', 'apple', 'carrot', 'banana', 'carrot', 'banana', 'apple', 'carrot', 'banana']\n"
     ]
    }
   ],
   "source": [
    "print(weights.tolist())\n",
    "print(fruit.tolist())\n"
   ]
  },
  {
   "cell_type": "code",
   "execution_count": 13,
   "metadata": {},
   "outputs": [
    {
     "name": "stdout",
     "output_type": "stream",
     "text": [
      "khối lượng trung bình từng loại quả:\n",
      " fruit\n",
      "apple     5.5\n",
      "banana    6.0\n",
      "carrot    5.0\n",
      "Name: weights, dtype: float64\n"
     ]
    }
   ],
   "source": [
    "# Tạo df cho 2 ser\n",
    "df = pd.DataFrame({'fruit':fruit,'weights':weights})\n",
    "#tính khối lượng trung bình từng loại quả\n",
    "mean_df = df.groupby('fruit')['weights'].mean()\n",
    "print('khối lượng trung bình từng loại quả:\\n',mean_df)\n"
   ]
  },
  {
   "cell_type": "code",
   "execution_count": null,
   "metadata": {},
   "outputs": [],
   "source": []
  },
  {
   "cell_type": "code",
   "execution_count": null,
   "metadata": {},
   "outputs": [],
   "source": []
  }
 ],
 "metadata": {
  "kernelspec": {
   "display_name": "Python 3",
   "language": "python",
   "name": "python3"
  },
  "language_info": {
   "codemirror_mode": {
    "name": "ipython",
    "version": 3
   },
   "file_extension": ".py",
   "mimetype": "text/x-python",
   "name": "python",
   "nbconvert_exporter": "python",
   "pygments_lexer": "ipython3",
   "version": "3.10.10"
  }
 },
 "nbformat": 4,
 "nbformat_minor": 2
}
