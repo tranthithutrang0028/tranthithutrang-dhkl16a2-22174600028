{
 "cells": [
  {
   "cell_type": "code",
   "execution_count": 1,
   "metadata": {},
   "outputs": [],
   "source": [
    "import pandas as pd\n",
    "import numpy as np"
   ]
  },
  {
   "cell_type": "code",
   "execution_count": 3,
   "metadata": {},
   "outputs": [
    {
     "data": {
      "text/plain": [
       "0      Q9\n",
       "1      Q1\n",
       "2      Q3\n",
       "3      Q5\n",
       "4      Q6\n",
       "5      Q5\n",
       "6      Q6\n",
       "7      Q4\n",
       "8      Q9\n",
       "9      Q1\n",
       "10     Q2\n",
       "11    Q10\n",
       "12    Q10\n",
       "13    Q10\n",
       "14     Q4\n",
       "15     Q2\n",
       "16     Q7\n",
       "17     Q7\n",
       "18     Q3\n",
       "19     Q3\n",
       "20     Q7\n",
       "21     Q2\n",
       "22     Q8\n",
       "23     Q5\n",
       "24     Q1\n",
       "25     Q8\n",
       "26     Q9\n",
       "27     Q8\n",
       "28     Q4\n",
       "dtype: category\n",
       "Categories (10, object): ['Q1' < 'Q2' < 'Q3' < 'Q4' ... 'Q7' < 'Q8' < 'Q9' < 'Q10']"
      ]
     },
     "execution_count": 3,
     "metadata": {},
     "output_type": "execute_result"
    }
   ],
   "source": [
    "ser = pd.Series(np.random.random(29))\n",
    "#thực hiện việc chia chuỗi dữ liệu ser thành 10 phân vị bằng nhau và thay thế các gía trị trong ser bằng tên của phân vị tương ứng\n",
    "ser_quantiles = pd.qcut(ser, q=10, labels=[f'Q{i}' for i in range(1, 11)])\n",
    "ser_quantiles\n",
    "#labels là danh sách tên của các phân vị\n"
   ]
  },
  {
   "cell_type": "code",
   "execution_count": null,
   "metadata": {},
   "outputs": [],
   "source": []
  }
 ],
 "metadata": {
  "kernelspec": {
   "display_name": "Python 3",
   "language": "python",
   "name": "python3"
  },
  "language_info": {
   "codemirror_mode": {
    "name": "ipython",
    "version": 3
   },
   "file_extension": ".py",
   "mimetype": "text/x-python",
   "name": "python",
   "nbconvert_exporter": "python",
   "pygments_lexer": "ipython3",
   "version": "3.10.10"
  }
 },
 "nbformat": 4,
 "nbformat_minor": 2
}
