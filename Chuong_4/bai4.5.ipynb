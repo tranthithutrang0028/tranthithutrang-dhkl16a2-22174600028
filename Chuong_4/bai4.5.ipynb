{
 "cells": [
  {
   "cell_type": "code",
   "execution_count": 21,
   "metadata": {},
   "outputs": [],
   "source": [
    "import pandas as pd\n",
    "import numpy as np"
   ]
  },
  {
   "cell_type": "code",
   "execution_count": 22,
   "metadata": {},
   "outputs": [
    {
     "data": {
      "text/plain": [
       "0      9.236134\n",
       "1     11.317573\n",
       "2      8.150542\n",
       "3      9.212426\n",
       "4      9.721526\n",
       "5      1.389306\n",
       "6     14.577360\n",
       "7     10.829223\n",
       "8      5.838363\n",
       "9     10.889928\n",
       "10     3.108587\n",
       "11     6.043083\n",
       "12    16.809489\n",
       "13    10.436997\n",
       "14     1.139514\n",
       "15     8.944725\n",
       "16    12.342623\n",
       "17    11.492539\n",
       "18    11.148550\n",
       "19    10.329823\n",
       "20     4.637902\n",
       "21    10.931707\n",
       "22    18.930512\n",
       "23    13.832917\n",
       "24    13.709339\n",
       "dtype: float64"
      ]
     },
     "execution_count": 22,
     "metadata": {},
     "output_type": "execute_result"
    }
   ],
   "source": [
    "ser = pd.Series(np.random.normal(10,5,25))\n",
    "ser"
   ]
  },
  {
   "cell_type": "markdown",
   "metadata": {},
   "source": [
    "Giá trị tối thiểu của ser"
   ]
  },
  {
   "cell_type": "code",
   "execution_count": 23,
   "metadata": {},
   "outputs": [
    {
     "name": "stdout",
     "output_type": "stream",
     "text": [
      "1.139514493204242\n"
     ]
    }
   ],
   "source": [
    "print(min(ser))"
   ]
  },
  {
   "cell_type": "markdown",
   "metadata": {},
   "source": [
    "Phần centile thứ 25 của ser"
   ]
  },
  {
   "cell_type": "code",
   "execution_count": 24,
   "metadata": {},
   "outputs": [
    {
     "name": "stdout",
     "output_type": "stream",
     "text": [
      "8.150542364405725\n"
     ]
    }
   ],
   "source": [
    "print( ser.quantile(0.25))"
   ]
  },
  {
   "cell_type": "markdown",
   "metadata": {},
   "source": [
    "Trung vị của ser"
   ]
  },
  {
   "cell_type": "code",
   "execution_count": 26,
   "metadata": {},
   "outputs": [
    {
     "name": "stdout",
     "output_type": "stream",
     "text": [
      "10.436996974266687\n"
     ]
    }
   ],
   "source": [
    "print(ser.median())"
   ]
  },
  {
   "cell_type": "markdown",
   "metadata": {},
   "source": [
    "Phần centile thứ 75 của ser"
   ]
  },
  {
   "cell_type": "code",
   "execution_count": 27,
   "metadata": {},
   "outputs": [
    {
     "name": "stdout",
     "output_type": "stream",
     "text": [
      "11.492538852298152\n"
     ]
    }
   ],
   "source": [
    "print( ser.quantile(0.75) )"
   ]
  },
  {
   "cell_type": "markdown",
   "metadata": {},
   "source": [
    "Giá trị tối đa"
   ]
  },
  {
   "cell_type": "code",
   "execution_count": 28,
   "metadata": {},
   "outputs": [
    {
     "name": "stdout",
     "output_type": "stream",
     "text": [
      "18.93051164408308\n"
     ]
    }
   ],
   "source": [
    "print(max(ser))"
   ]
  }
 ],
 "metadata": {
  "kernelspec": {
   "display_name": "Python 3",
   "language": "python",
   "name": "python3"
  },
  "language_info": {
   "codemirror_mode": {
    "name": "ipython",
    "version": 3
   },
   "file_extension": ".py",
   "mimetype": "text/x-python",
   "name": "python",
   "nbconvert_exporter": "python",
   "pygments_lexer": "ipython3",
   "version": "3.10.10"
  }
 },
 "nbformat": 4,
 "nbformat_minor": 2
}
