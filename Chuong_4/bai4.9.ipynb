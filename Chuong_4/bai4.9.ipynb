{
 "cells": [
  {
   "cell_type": "code",
   "execution_count": 2,
   "metadata": {},
   "outputs": [],
   "source": [
    "import pandas as pd\n",
    "import numpy as np\n",
    "ser = pd.Series(np.random.randint(1,10,35))\n"
   ]
  },
  {
   "cell_type": "markdown",
   "metadata": {},
   "source": [
    "- Ý nghĩa mã lệch trên là:\n",
    "+ câu lệch ('np.random.randit(1,10,35)') trên để tạo 1 series(dãy số)ngẫu nhiên gồm 35 phần tử là các số nguyên ngẫu nhiên từ 1 đến 10\n",
    "+ sau đó dùng (pd.Series) để chuyển mảng này thành 1 series\n"
   ]
  },
  {
   "cell_type": "code",
   "execution_count": 4,
   "metadata": {},
   "outputs": [
    {
     "name": "stdout",
     "output_type": "stream",
     "text": [
      "DataFrame mới : \n",
      "    0  1  2  3  4\n",
      "0  4  5  1  1  5\n",
      "1  3  5  7  8  4\n",
      "2  6  1  5  5  1\n",
      "3  4  6  2  7  8\n",
      "4  5  8  7  4  9\n",
      "5  1  5  8  3  8\n",
      "6  5  7  9  4  3\n"
     ]
    }
   ],
   "source": [
    "#định hịnh lại ser thành 1 dataframe có 7 hàng 5 cột\n",
    "ser_df = pd.DataFrame(np.array(ser).reshape(7,5))\n",
    "print('DataFrame mới : \\n',ser_df)"
   ]
  }
 ],
 "metadata": {
  "kernelspec": {
   "display_name": "Python 3",
   "language": "python",
   "name": "python3"
  },
  "language_info": {
   "codemirror_mode": {
    "name": "ipython",
    "version": 3
   },
   "file_extension": ".py",
   "mimetype": "text/x-python",
   "name": "python",
   "nbconvert_exporter": "python",
   "pygments_lexer": "ipython3",
   "version": "3.10.10"
  }
 },
 "nbformat": 4,
 "nbformat_minor": 2
}
