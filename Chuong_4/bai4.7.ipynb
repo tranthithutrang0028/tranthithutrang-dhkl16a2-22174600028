{
 "cells": [
  {
   "cell_type": "code",
   "execution_count": 1,
   "metadata": {},
   "outputs": [],
   "source": [
    "import pandas as pd\n",
    "import numpy as np"
   ]
  },
  {
   "cell_type": "code",
   "execution_count": 10,
   "metadata": {},
   "outputs": [
    {
     "name": "stderr",
     "output_type": "stream",
     "text": [
      "<>:2: SyntaxWarning: 'int' object is not subscriptable; perhaps you missed a comma?\n",
      "<>:2: SyntaxWarning: 'int' object is not subscriptable; perhaps you missed a comma?\n",
      "/var/folders/t4/h_fxtbhn0cs9n6nt3sdz99_h0000gn/T/ipykernel_5869/2162082052.py:2: SyntaxWarning: 'int' object is not subscriptable; perhaps you missed a comma?\n",
      "  ser = pd.Series(np.random.RandomState(100).randint(1 ,5 [12]))\n",
      "/var/folders/t4/h_fxtbhn0cs9n6nt3sdz99_h0000gn/T/ipykernel_5869/2162082052.py:2: SyntaxWarning: 'int' object is not subscriptable; perhaps you missed a comma?\n",
      "  ser = pd.Series(np.random.RandomState(100).randint(1 ,5 [12]))\n",
      "/var/folders/t4/h_fxtbhn0cs9n6nt3sdz99_h0000gn/T/ipykernel_5869/2162082052.py:2: SyntaxWarning: 'int' object is not subscriptable; perhaps you missed a comma?\n",
      "  ser = pd.Series(np.random.RandomState(100).randint(1 ,5 [12]))\n"
     ]
    },
    {
     "ename": "TypeError",
     "evalue": "'int' object is not subscriptable",
     "output_type": "error",
     "traceback": [
      "\u001b[0;31m---------------------------------------------------------------------------\u001b[0m",
      "\u001b[0;31mTypeError\u001b[0m                                 Traceback (most recent call last)",
      "\u001b[1;32m/Users/nguyenxuanty/Documents/Baitappython/baitapchuong4/4.7.ipynb Cell 2\u001b[0m line \u001b[0;36m2\n\u001b[1;32m      <a href='vscode-notebook-cell:/Users/nguyenxuanty/Documents/Baitappython/baitapchuong4/4.7.ipynb#W1sZmlsZQ%3D%3D?line=0'>1</a>\u001b[0m np\u001b[39m.\u001b[39mrandom\u001b[39m.\u001b[39mRandomState(\u001b[39m100\u001b[39m)\n\u001b[0;32m----> <a href='vscode-notebook-cell:/Users/nguyenxuanty/Documents/Baitappython/baitapchuong4/4.7.ipynb#W1sZmlsZQ%3D%3D?line=1'>2</a>\u001b[0m ser \u001b[39m=\u001b[39m pd\u001b[39m.\u001b[39mSeries(np\u001b[39m.\u001b[39mrandom\u001b[39m.\u001b[39mRandomState(\u001b[39m100\u001b[39m)\u001b[39m.\u001b[39mrandint(\u001b[39m1\u001b[39m ,\u001b[39m5\u001b[39;49m [\u001b[39m12\u001b[39;49m]))\n",
      "\u001b[0;31mTypeError\u001b[0m: 'int' object is not subscriptable"
     ]
    }
   ],
   "source": [
    "np.random.RandomState(100)\n",
    "ser = pd.Series(np.random.RandomState(100).randint(1 ,5 [12]))"
   ]
  },
  {
   "cell_type": "code",
   "execution_count": null,
   "metadata": {},
   "outputs": [],
   "source": []
  }
 ],
 "metadata": {
  "kernelspec": {
   "display_name": "Python 3",
   "language": "python",
   "name": "python3"
  },
  "language_info": {
   "codemirror_mode": {
    "name": "ipython",
    "version": 3
   },
   "file_extension": ".py",
   "mimetype": "text/x-python",
   "name": "python",
   "nbconvert_exporter": "python",
   "pygments_lexer": "ipython3",
   "version": "3.10.10"
  }
 },
 "nbformat": 4,
 "nbformat_minor": 2
}
