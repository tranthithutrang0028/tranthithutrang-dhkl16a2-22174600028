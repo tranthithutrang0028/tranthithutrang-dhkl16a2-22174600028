{
 "cells": [
  {
   "cell_type": "code",
   "execution_count": 1,
   "metadata": {},
   "outputs": [],
   "source": [
    "import pandas as pd \n",
    "\n",
    "ser = pd.Series(['01 Jan 2010','02-02-2011','20120303','2013/04/04','2014-05-05','2015-06-06T12:20'])\n"
   ]
  },
  {
   "cell_type": "code",
   "execution_count": 4,
   "metadata": {},
   "outputs": [
    {
     "name": "stdout",
     "output_type": "stream",
     "text": [
      "Chuỗi thời gian là:\n",
      " 0   2010-01-01\n",
      "1          NaT\n",
      "2          NaT\n",
      "3          NaT\n",
      "4          NaT\n",
      "5          NaT\n",
      "dtype: datetime64[ns]\n"
     ]
    }
   ],
   "source": [
    "timeseries = pd.to_datetime(ser, errors='coerce')\n",
    "# errors='coerce' sẽ đặt giá trị không thể chuyển đổi thành NaT (Not a Time) nếu có lỗi chuyển đổi.\n",
    "print('Chuỗi thời gian là:\\n',timeseries)"
   ]
  }
 ],
 "metadata": {
  "kernelspec": {
   "display_name": "Python 3",
   "language": "python",
   "name": "python3"
  },
  "language_info": {
   "codemirror_mode": {
    "name": "ipython",
    "version": 3
   },
   "file_extension": ".py",
   "mimetype": "text/x-python",
   "name": "python",
   "nbconvert_exporter": "python",
   "pygments_lexer": "ipython3",
   "version": "3.10.10"
  }
 },
 "nbformat": 4,
 "nbformat_minor": 2
}
