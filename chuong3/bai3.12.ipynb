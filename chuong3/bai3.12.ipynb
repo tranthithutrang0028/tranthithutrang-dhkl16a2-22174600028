{
 "cells": [
  {
   "cell_type": "code",
   "execution_count": 1,
   "metadata": {},
   "outputs": [],
   "source": [
    "import pandas as pd\n",
    "\n",
    "# 1. Đọc dữ liệu & Data Structures\n",
    "movies = pd.read_csv(\"C:\\\\NguyenThiLanAnh-DHKL16A2HN-22174600026\\\\Chuong_4\\\\movies.csv\")\n",
    "ratings = pd.read_csv(\"C:\\\\NguyenThiLanAnh-DHKL16A2HN-22174600026\\\\Chuong_4\\\\ratings.csv\")\n",
    "\n"
   ]
  },
  {
   "cell_type": "code",
   "execution_count": 2,
   "metadata": {},
   "outputs": [
    {
     "name": "stdout",
     "output_type": "stream",
     "text": [
      "Missing values in movies:\n",
      " movieId    0\n",
      "title      0\n",
      "genres     0\n",
      "dtype: int64\n",
      "Missing values in ratings:\n",
      " userId       0\n",
      "movieId      0\n",
      "rating       0\n",
      "timestamp    0\n",
      "dtype: int64\n"
     ]
    }
   ],
   "source": [
    "# 2. Xử lý dữ liệu bị thiếu/ không hợp lệ\n",
    "# Kiểm tra giá trị thiếu\n",
    "print(\"Missing values in movies:\\n\", movies.isnull().sum())\n",
    "print(\"Missing values in ratings:\\n\", ratings.isnull().sum())\n",
    "\n"
   ]
  },
  {
   "cell_type": "code",
   "execution_count": 3,
   "metadata": {},
   "outputs": [
    {
     "name": "stdout",
     "output_type": "stream",
     "text": [
      "        userId  movieId  rating   timestamp                           title  \\\n",
      "0            1        1     4.0   964982703                Toy Story (1995)   \n",
      "1            1        3     4.0   964981247         Grumpier Old Men (1995)   \n",
      "2            1        6     4.0   964982224                     Heat (1995)   \n",
      "3            1       47     5.0   964983815     Seven (a.k.a. Se7en) (1995)   \n",
      "4            1       50     5.0   964982931      Usual Suspects, The (1995)   \n",
      "...        ...      ...     ...         ...                             ...   \n",
      "100831     610   166534     4.0  1493848402                    Split (2017)   \n",
      "100832     610   168248     5.0  1493850091   John Wick: Chapter Two (2017)   \n",
      "100833     610   168250     5.0  1494273047                  Get Out (2017)   \n",
      "100834     610   168252     5.0  1493846352                    Logan (2017)   \n",
      "100835     610   170875     3.0  1493846415  The Fate of the Furious (2017)   \n",
      "\n",
      "                                             genres  \n",
      "0       Adventure|Animation|Children|Comedy|Fantasy  \n",
      "1                                    Comedy|Romance  \n",
      "2                             Action|Crime|Thriller  \n",
      "3                                  Mystery|Thriller  \n",
      "4                            Crime|Mystery|Thriller  \n",
      "...                                             ...  \n",
      "100831                        Drama|Horror|Thriller  \n",
      "100832                        Action|Crime|Thriller  \n",
      "100833                                       Horror  \n",
      "100834                                Action|Sci-Fi  \n",
      "100835                  Action|Crime|Drama|Thriller  \n",
      "\n",
      "[100836 rows x 6 columns]\n"
     ]
    }
   ],
   "source": [
    "\n",
    "# 3. Gộp DataFrame\n",
    "movie_ratings = pd.merge(ratings, movies, on='movieId', how='left')\n",
    "print(movie_ratings)\n"
   ]
  },
  {
   "cell_type": "code",
   "execution_count": 4,
   "metadata": {},
   "outputs": [
    {
     "name": "stdout",
     "output_type": "stream",
     "text": [
      "title\n",
      "Karlson Returns (1970)                           5.0\n",
      "Winter in Prostokvashino (1984)                  5.0\n",
      "My Love (2006)                                   5.0\n",
      "Sorority House Massacre II (1990)                5.0\n",
      "Winnie the Pooh and the Day of Concern (1972)    5.0\n",
      "                                                ... \n",
      "The Beast of Hollow Mountain (1956)              0.5\n",
      "Follow Me, Boys! (1966)                          0.5\n",
      "The Butterfly Effect 3: Revelations (2009)       0.5\n",
      "The Emoji Movie (2017)                           0.5\n",
      "Rust and Bone (De rouille et d'os) (2012)        0.5\n",
      "Name: rating, Length: 9719, dtype: float64\n"
     ]
    }
   ],
   "source": [
    "# 4. Lọc dữ liệu theo yêu cầu\n",
    "high_rated_movies = movie_ratings.groupby('title')['rating'].mean().sort_values(ascending=False)\n",
    "print(high_rated_movies)\n"
   ]
  },
  {
   "cell_type": "code",
   "execution_count": 5,
   "metadata": {},
   "outputs": [
    {
     "name": "stdout",
     "output_type": "stream",
     "text": [
      "title\n",
      "'71 (2014)                                   4.000000\n",
      "'Hellboy': The Seeds of Creation (2004)      4.000000\n",
      "'Round Midnight (1986)                       3.500000\n",
      "'Salem's Lot (2004)                          5.000000\n",
      "'Til There Was You (1997)                    4.000000\n",
      "                                               ...   \n",
      "eXistenZ (1999)                              3.863636\n",
      "xXx (2002)                                   2.770833\n",
      "xXx: State of the Union (2005)               2.000000\n",
      "¡Three Amigos! (1986)                        3.134615\n",
      "À nous la liberté (Freedom for Us) (1931)    1.000000\n",
      "Name: rating, Length: 9719, dtype: float64\n"
     ]
    }
   ],
   "source": [
    "# 5. Thống kê dữ liệu\n",
    "average_ratings = movie_ratings.groupby('title')['rating'].mean()\n",
    "print(average_ratings)\n"
   ]
  },
  {
   "cell_type": "code",
   "execution_count": 6,
   "metadata": {},
   "outputs": [
    {
     "name": "stdout",
     "output_type": "stream",
     "text": [
      "        userId  movieId  rating   timestamp                   parsed_time\n",
      "0            1        1     4.0   964982703 1970-01-01 00:00:00.964982703\n",
      "1            1        3     4.0   964981247 1970-01-01 00:00:00.964981247\n",
      "2            1        6     4.0   964982224 1970-01-01 00:00:00.964982224\n",
      "3            1       47     5.0   964983815 1970-01-01 00:00:00.964983815\n",
      "4            1       50     5.0   964982931 1970-01-01 00:00:00.964982931\n",
      "...        ...      ...     ...         ...                           ...\n",
      "100831     610   166534     4.0  1493848402 1970-01-01 00:00:01.493848402\n",
      "100832     610   168248     5.0  1493850091 1970-01-01 00:00:01.493850091\n",
      "100833     610   168250     5.0  1494273047 1970-01-01 00:00:01.494273047\n",
      "100834     610   168252     5.0  1493846352 1970-01-01 00:00:01.493846352\n",
      "100835     610   170875     3.0  1493846415 1970-01-01 00:00:01.493846415\n",
      "\n",
      "[100836 rows x 5 columns]\n"
     ]
    }
   ],
   "source": [
    "# 6. Parsing Timestamps\n",
    "# Nếu có cột timestamp, chuyển đổi sang định dạng datetime\n",
    "if 'timestamp' in ratings.columns:\n",
    "    ratings['parsed_time'] = pd.to_datetime(ratings['timestamp'])\n",
    "    print(ratings)"
   ]
  }
 ],
 "metadata": {
  "kernelspec": {
   "display_name": "Python 3",
   "language": "python",
   "name": "python3"
  },
  "language_info": {
   "codemirror_mode": {
    "name": "ipython",
    "version": 3
   },
   "file_extension": ".py",
   "mimetype": "text/x-python",
   "name": "python",
   "nbconvert_exporter": "python",
   "pygments_lexer": "ipython3",
   "version": "3.6.8"
  }
 },
 "nbformat": 4,
 "nbformat_minor": 2
}
