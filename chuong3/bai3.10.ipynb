{
 "cells": [
  {
   "cell_type": "code",
   "execution_count": 1,
   "metadata": {},
   "outputs": [
    {
     "name": "stdout",
     "output_type": "stream",
     "text": [
      "Type of drink: <class 'pandas.core.frame.DataFrame'>\n",
      "Shape of drink: (193, 7)\n",
      "Columns of drink: Index(['Unnamed: 0', 'country', 'beer_servings', 'spirit_servings',\n",
      "       'wine_servings', 'total_litres_of_pure_alcohol', 'continent'],\n",
      "      dtype='object')\n",
      "\n",
      "First 5 rows of drink:\n",
      "    Unnamed: 0      country  beer_servings  spirit_servings  wine_servings  \\\n",
      "0           0  Afghanistan              0                0              0   \n",
      "1           1      Albania             89              132             54   \n",
      "2           2      Algeria             25                0             14   \n",
      "3           3      Andorra            245              138            312   \n",
      "4           4       Angola            217               57             45   \n",
      "\n",
      "   total_litres_of_pure_alcohol continent  \n",
      "0                           0.0        AS  \n",
      "1                           4.9        EU  \n",
      "2                           0.7        AF  \n",
      "3                          12.4        EU  \n",
      "4                           5.9        AF  \n",
      "\n",
      "Last 5 rows of drink:\n",
      "      Unnamed: 0    country  beer_servings  spirit_servings  wine_servings  \\\n",
      "188         188  Venezuela            333              100              3   \n",
      "189         189    Vietnam            111                2              1   \n",
      "190         190      Yemen              6                0              0   \n",
      "191         191     Zambia             32               19              4   \n",
      "192         192   Zimbabwe             64               18              4   \n",
      "\n",
      "     total_litres_of_pure_alcohol continent  \n",
      "188                           7.7        SA  \n",
      "189                           2.0        AS  \n",
      "190                           0.1        AS  \n",
      "191                           2.5        AF  \n",
      "192                           4.7        AF  \n"
     ]
    }
   ],
   "source": [
    "import pandas as pd\n",
    "\n",
    "# 1. Đọc dữ liệu từ tập tin drinks.csv và hiển thị thông tin cơ bản\n",
    "drink = pd.read_csv('C:\\\\NguyenThiLanAnh-DHKL16A2HN-22174600026\\\\Chuong_3\\\\drinks.csv')\n",
    "print(\"Type of drink:\", type(drink))\n",
    "print(\"Shape of drink:\", drink.shape)\n",
    "print(\"Columns of drink:\", drink.columns)\n",
    "print(\"\\nFirst 5 rows of drink:\\n\", drink.head())\n",
    "print(\"\\nLast 5 rows of drink:\\n\", drink.tail())\n",
    "\n",
    "\n"
   ]
  },
  {
   "cell_type": "code",
   "execution_count": 2,
   "metadata": {},
   "outputs": [
    {
     "name": "stdout",
     "output_type": "stream",
     "text": [
      "\n",
      "Average beer consumption by continent:\n",
      " continent\n",
      "AF     61.471698\n",
      "AS     37.045455\n",
      "EU    193.777778\n",
      "OC     89.687500\n",
      "SA    175.083333\n",
      "Name: beer_servings, dtype: float64\n"
     ]
    }
   ],
   "source": [
    "# 2. Số lượng bia tiêu thụ trung bình ở mỗi châu lục\n",
    "average_beer_consumption = drink.groupby('continent')['beer_servings'].mean()\n",
    "print(\"\\nAverage beer consumption by continent:\\n\", average_beer_consumption)\n",
    "\n"
   ]
  },
  {
   "cell_type": "code",
   "execution_count": 3,
   "metadata": {},
   "outputs": [
    {
     "name": "stdout",
     "output_type": "stream",
     "text": [
      "\n",
      "Wine consumption statistics by continent:\n",
      "            count        mean        std  min   25%    50%     75%    max\n",
      "continent                                                               \n",
      "AF          53.0   16.264151  38.846419  0.0   1.0    2.0   13.00  233.0\n",
      "AS          44.0    9.068182  21.667034  0.0   0.0    1.0    8.00  123.0\n",
      "EU          45.0  142.222222  97.421738  0.0  59.0  128.0  195.00  370.0\n",
      "OC          16.0   35.625000  64.555790  0.0   1.0    8.5   23.25  212.0\n",
      "SA          12.0   62.416667  88.620189  1.0   3.0   12.0   98.50  221.0\n"
     ]
    }
   ],
   "source": [
    "# 3. Thông tin thống kê tổng quát về số lượng rượu vang được tiêu thụ ở mỗi châu lục\n",
    "wine_consumption_stats = drink.groupby('continent')['wine_servings'].describe()\n",
    "print(\"\\nWine consumption statistics by continent:\\n\", wine_consumption_stats)\n",
    "\n"
   ]
  },
  {
   "cell_type": "code",
   "execution_count": 4,
   "metadata": {},
   "outputs": [
    {
     "name": "stdout",
     "output_type": "stream",
     "text": [
      "\n",
      "Average consumption by continent:\n",
      "            beer_servings  spirit_servings  wine_servings\n",
      "continent                                               \n",
      "AF             61.471698        16.339623      16.264151\n",
      "AS             37.045455        60.840909       9.068182\n",
      "EU            193.777778       132.555556     142.222222\n",
      "OC             89.687500        58.437500      35.625000\n",
      "SA            175.083333       114.750000      62.416667\n"
     ]
    }
   ],
   "source": [
    "# 4. Số lượng các loại bia và rượu tiêu thụ trung bình ở mỗi châu lục\n",
    "average_consumption_by_continent = drink.groupby('continent')[['beer_servings', 'spirit_servings', 'wine_servings']].mean()\n",
    "print(\"\\nAverage consumption by continent:\\n\", average_consumption_by_continent)\n",
    "\n"
   ]
  },
  {
   "cell_type": "code",
   "execution_count": 5,
   "metadata": {},
   "outputs": [
    {
     "name": "stdout",
     "output_type": "stream",
     "text": [
      "\n",
      "Median consumption by continent:\n",
      "            beer_servings  spirit_servings  wine_servings\n",
      "continent                                               \n",
      "AF                  32.0              3.0            2.0\n",
      "AS                  17.5             16.0            1.0\n",
      "EU                 219.0            122.0          128.0\n",
      "OC                  52.5             37.0            8.5\n",
      "SA                 162.5            108.5           12.0\n"
     ]
    }
   ],
   "source": [
    "# 5. Giá trị trung vị cho các loại bia và rượu tiêu thụ ở mỗi châu lục\n",
    "median_consumption_by_continent = drink.groupby('continent')[['beer_servings', 'spirit_servings', 'wine_servings']].median()\n",
    "print(\"\\nMedian consumption by continent:\\n\", median_consumption_by_continent)\n"
   ]
  },
  {
   "cell_type": "code",
   "execution_count": 6,
   "metadata": {},
   "outputs": [
    {
     "name": "stdout",
     "output_type": "stream",
     "text": [
      "\n",
      "Spirit consumption statistics by continent:\n",
      "                  mean  max  min\n",
      "continent                      \n",
      "AF          16.339623  152    0\n",
      "AS          60.840909  326    0\n",
      "EU         132.555556  373    0\n",
      "OC          58.437500  254    0\n",
      "SA         114.750000  302   25\n"
     ]
    }
   ],
   "source": [
    "# 6. Số lượng rượu mạnh (spirit_servings) tiêu thụ trung bình, lớn nhất và nhỏ nhất ở mỗi châu lục\n",
    "spirit_consumption_stats = drink.groupby('continent')['spirit_servings'].agg(['mean', 'max', 'min'])\n",
    "print(\"\\nSpirit consumption statistics by continent:\\n\", spirit_consumption_stats)\n",
    "\n"
   ]
  },
  {
   "cell_type": "code",
   "execution_count": 7,
   "metadata": {},
   "outputs": [
    {
     "name": "stdout",
     "output_type": "stream",
     "text": [
      "\n",
      "Top 5 countries with highest beer consumption:\n",
      "      Unnamed: 0         country  beer_servings  spirit_servings  \\\n",
      "117         117         Namibia            376                3   \n",
      "45           45  Czech Republic            361              170   \n",
      "62           62           Gabon            347               98   \n",
      "65           65         Germany            346              117   \n",
      "98           98       Lithuania            343              244   \n",
      "\n",
      "     wine_servings  total_litres_of_pure_alcohol continent  \n",
      "117              1                           6.8        AF  \n",
      "45             134                          11.8        EU  \n",
      "62              59                           8.9        AF  \n",
      "65             175                          11.3        EU  \n",
      "98              56                          12.9        EU  \n",
      "\n",
      "Top 5 countries with lowest beer consumption:\n",
      "      Unnamed: 0      country  beer_servings  spirit_servings  wine_servings  \\\n",
      "107         107   Mauritania              0                0              0   \n",
      "158         158      Somalia              0                0              0   \n",
      "111         111       Monaco              0                0              0   \n",
      "128         128     Pakistan              0                0              0   \n",
      "0             0  Afghanistan              0                0              0   \n",
      "\n",
      "     total_litres_of_pure_alcohol continent  \n",
      "107                           0.0        AF  \n",
      "158                           0.0        AF  \n",
      "111                           0.0        EU  \n",
      "128                           0.0        AS  \n",
      "0                             0.0        AS  \n"
     ]
    }
   ],
   "source": [
    "# 7. Sắp xếp dữ liệu theo số lượng bia tiêu thụ và hiển thị 5 quốc gia nhiều nhất và ít nhất\n",
    "sorted_by_beer_consumption = drink.sort_values(by='beer_servings', ascending=False)\n",
    "print(\"\\nTop 5 countries with highest beer consumption:\\n\", sorted_by_beer_consumption.head())\n",
    "print(\"\\nTop 5 countries with lowest beer consumption:\\n\", sorted_by_beer_consumption.tail())\n"
   ]
  }
 ],
 "metadata": {
  "kernelspec": {
   "display_name": "Python 3",
   "language": "python",
   "name": "python3"
  },
  "language_info": {
   "codemirror_mode": {
    "name": "ipython",
    "version": 3
   },
   "file_extension": ".py",
   "mimetype": "text/x-python",
   "name": "python",
   "nbconvert_exporter": "python",
   "pygments_lexer": "ipython3",
   "version": "3.6.8"
  }
 },
 "nbformat": 4,
 "nbformat_minor": 2
}
