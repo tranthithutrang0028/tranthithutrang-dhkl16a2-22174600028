{
 "cells": [
  {
   "cell_type": "code",
   "execution_count": 2,
   "metadata": {},
   "outputs": [
    {
     "name": "stdout",
     "output_type": "stream",
     "text": [
      "Type of euro12:\n",
      " <class 'pandas.core.frame.DataFrame'>\n",
      "\n",
      "Shape of euro12:\n",
      " (16, 36)\n",
      "\n",
      "Columns of euro12:\n",
      " Index(['Unnamed: 0', 'Team', 'Goals', 'Shots on target', 'Shots off target',\n",
      "       'Shooting Accuracy', '% Goals-to-shots', 'Total shots (inc. Blocked)',\n",
      "       'Hit Woodwork', 'Penalty goals', 'Penalties not scored', 'Headed goals',\n",
      "       'Passes', 'Passes completed', 'Passing Accuracy', 'Touches', 'Crosses',\n",
      "       'Dribbles', 'Corners Taken', 'Tackles', 'Clearances', 'Interceptions',\n",
      "       'Clearances off line', 'Clean Sheets', 'Blocks', 'Goals conceded',\n",
      "       'Saves made', 'Saves-to-shots ratio', 'Fouls Won', 'Fouls Conceded',\n",
      "       'Offsides', 'Yellow Cards', 'Red Cards', 'Subs on', 'Subs off',\n",
      "       'Players Used'],\n",
      "      dtype='object')\n"
     ]
    }
   ],
   "source": [
    "import pandas as pd\n",
    "\n",
    "# Đọc dữ liệu từ file CSV\n",
    "euro12 = pd.read_csv('C:\\\\NguyenThiLanAnh-DHKL16A2HN-22174600026\\\\Chuong_3\\\\euro2012.csv')\n",
    "\n",
    "# 1. In euro12: type, shape, danh sách các cột\n",
    "print(\"Type of euro12:\\n\", type(euro12))\n",
    "print(\"\\nShape of euro12:\\n\", euro12.shape)\n",
    "print(\"\\nColumns of euro12:\\n\", euro12.columns)\n",
    "\n",
    "\n",
    "\n"
   ]
  },
  {
   "cell_type": "code",
   "execution_count": 3,
   "metadata": {},
   "outputs": [
    {
     "name": "stdout",
     "output_type": "stream",
     "text": [
      "\n",
      "Goals column values:\n",
      " 0      4\n",
      "1      4\n",
      "2      4\n",
      "3      5\n",
      "4      3\n",
      "5     10\n",
      "6      5\n",
      "7      6\n",
      "8      2\n",
      "9      2\n",
      "10     6\n",
      "11     1\n",
      "12     5\n",
      "13    12\n",
      "14     5\n",
      "15     2\n",
      "Name: Goals, dtype: int64\n"
     ]
    }
   ],
   "source": [
    "# 2. In giá trị cột Goals\n",
    "print(\"\\nGoals column values:\\n\", euro12['Goals'])\n",
    "\n"
   ]
  },
  {
   "cell_type": "code",
   "execution_count": 4,
   "metadata": {},
   "outputs": [
    {
     "name": "stdout",
     "output_type": "stream",
     "text": [
      "\n",
      "Number of teams in Euro2012: 16\n"
     ]
    }
   ],
   "source": [
    "# 3. Có bao nhiêu đội tham gia Euro2012?\n",
    "num_teams = len(euro12['Team'].unique())\n",
    "print(\"\\nNumber of teams in Euro2012:\", num_teams)\n",
    "\n"
   ]
  },
  {
   "cell_type": "code",
   "execution_count": 5,
   "metadata": {},
   "outputs": [
    {
     "name": "stdout",
     "output_type": "stream",
     "text": [
      "<class 'pandas.core.frame.DataFrame'>\n",
      "RangeIndex: 16 entries, 0 to 15\n",
      "Data columns (total 36 columns):\n",
      " #   Column                      Non-Null Count  Dtype  \n",
      "---  ------                      --------------  -----  \n",
      " 0   Unnamed: 0                  16 non-null     int64  \n",
      " 1   Team                        16 non-null     object \n",
      " 2   Goals                       16 non-null     int64  \n",
      " 3   Shots on target             16 non-null     int64  \n",
      " 4   Shots off target            16 non-null     int64  \n",
      " 5   Shooting Accuracy           16 non-null     object \n",
      " 6   % Goals-to-shots            16 non-null     object \n",
      " 7   Total shots (inc. Blocked)  16 non-null     int64  \n",
      " 8   Hit Woodwork                16 non-null     int64  \n",
      " 9   Penalty goals               16 non-null     int64  \n",
      " 10  Penalties not scored        16 non-null     int64  \n",
      " 11  Headed goals                16 non-null     int64  \n",
      " 12  Passes                      16 non-null     int64  \n",
      " 13  Passes completed            16 non-null     int64  \n",
      " 14  Passing Accuracy            16 non-null     object \n",
      " 15  Touches                     16 non-null     int64  \n",
      " 16  Crosses                     16 non-null     int64  \n",
      " 17  Dribbles                    16 non-null     int64  \n",
      " 18  Corners Taken               16 non-null     int64  \n",
      " 19  Tackles                     16 non-null     int64  \n",
      " 20  Clearances                  16 non-null     int64  \n",
      " 21  Interceptions               16 non-null     int64  \n",
      " 22  Clearances off line         15 non-null     float64\n",
      " 23  Clean Sheets                16 non-null     int64  \n",
      " 24  Blocks                      16 non-null     int64  \n",
      " 25  Goals conceded              16 non-null     int64  \n",
      " 26  Saves made                  16 non-null     int64  \n",
      " 27  Saves-to-shots ratio        16 non-null     object \n",
      " 28  Fouls Won                   16 non-null     int64  \n",
      " 29  Fouls Conceded              16 non-null     int64  \n",
      " 30  Offsides                    16 non-null     int64  \n",
      " 31  Yellow Cards                16 non-null     int64  \n",
      " 32  Red Cards                   16 non-null     int64  \n",
      " 33  Subs on                     16 non-null     int64  \n",
      " 34  Subs off                    16 non-null     int64  \n",
      " 35  Players Used                16 non-null     int64  \n",
      "dtypes: float64(1), int64(30), object(5)\n",
      "memory usage: 4.6+ KB\n",
      "\n",
      "Info of Euro2012:\n",
      " None\n"
     ]
    }
   ],
   "source": [
    "# 4. In thông tin của Euro2012.\n",
    "print(\"\\nInfo of Euro2012:\\n\", euro12.info())\n",
    "\n"
   ]
  },
  {
   "cell_type": "code",
   "execution_count": 6,
   "metadata": {},
   "outputs": [
    {
     "name": "stdout",
     "output_type": "stream",
     "text": [
      "                   Team  Yellow Cards  Red Cards\n",
      "0               Croatia             9          0\n",
      "1        Czech Republic             7          0\n",
      "2               Denmark             4          0\n",
      "3               England             5          0\n",
      "4                France             6          0\n",
      "5               Germany             4          0\n",
      "6                Greece             9          1\n",
      "7                 Italy            16          0\n",
      "8           Netherlands             5          0\n",
      "9                Poland             7          1\n",
      "10             Portugal            12          0\n",
      "11  Republic of Ireland             6          1\n",
      "12               Russia             6          0\n",
      "13                Spain            11          0\n",
      "14               Sweden             7          0\n",
      "15              Ukraine             5          0\n"
     ]
    }
   ],
   "source": [
    "# 5. Tạo 1 data frame mới từ euro12 có tên là discipline chỉ chứa 3 cột 'Team', 'Yellow Cards', 'Red Cards'.\n",
    "discipline = euro12[['Team', 'Yellow Cards', 'Red Cards']]\n",
    "print(discipline)\n"
   ]
  },
  {
   "cell_type": "code",
   "execution_count": 7,
   "metadata": {},
   "outputs": [
    {
     "name": "stdout",
     "output_type": "stream",
     "text": [
      "                   Team  Yellow Cards  Red Cards\n",
      "6                Greece             9          1\n",
      "9                Poland             7          1\n",
      "11  Republic of Ireland             6          1\n",
      "7                 Italy            16          0\n",
      "10             Portugal            12          0\n",
      "13                Spain            11          0\n",
      "0               Croatia             9          0\n",
      "1        Czech Republic             7          0\n",
      "14               Sweden             7          0\n",
      "4                France             6          0\n",
      "12               Russia             6          0\n",
      "3               England             5          0\n",
      "8           Netherlands             5          0\n",
      "15              Ukraine             5          0\n",
      "2               Denmark             4          0\n",
      "5               Germany             4          0\n"
     ]
    }
   ],
   "source": [
    "# 6. Sắp xếp discipline giảm dần theo 2 cột 'Red Cards', 'Yellow Cards'.\n",
    "discipline = discipline.sort_values(['Red Cards', 'Yellow Cards'], ascending=[False, False])\n",
    "print(discipline)"
   ]
  },
  {
   "cell_type": "code",
   "execution_count": 9,
   "metadata": {},
   "outputs": [
    {
     "name": "stdout",
     "output_type": "stream",
     "text": [
      "\n",
      "Average Yellow Cards: 7.4375\n",
      "\n",
      "Teams with more than 6 goals:\n",
      "     Unnamed: 0     Team  Goals  Shots on target  Shots off target  \\\n",
      "5            5  Germany     10               32                32   \n",
      "13          13    Spain     12               42                33   \n",
      "\n",
      "   Shooting Accuracy % Goals-to-shots  Total shots (inc. Blocked)  \\\n",
      "5             47.80%           15.60%                          80   \n",
      "13            55.90%           16.00%                         100   \n",
      "\n",
      "    Hit Woodwork  Penalty goals  ...  Saves made  Saves-to-shots ratio  \\\n",
      "5              2              1  ...          10                62.60%   \n",
      "13             0              1  ...          15                93.80%   \n",
      "\n",
      "    Fouls Won  Fouls Conceded Offsides  Yellow Cards  Red Cards  Subs on  \\\n",
      "5          63              49       12             4          0       15   \n",
      "13        102              83       19            11          0       17   \n",
      "\n",
      "    Subs off  Players Used  \n",
      "5         15            17  \n",
      "13        17            18  \n",
      "\n",
      "[2 rows x 36 columns]\n"
     ]
    }
   ],
   "source": [
    "# 6a) Tính trung bình Yellow Cards.\n",
    "avg_yellow_cards = euro12['Yellow Cards'].mean()\n",
    "print(\"\\nAverage Yellow Cards:\", avg_yellow_cards)\n",
    "\n",
    "# 6b) Lọc các đội đã ghi hơn 6 bàn thắng.\n",
    "teams_more_than_6_goals = euro12[euro12['Goals'] > 6]\n",
    "print(\"\\nTeams with more than 6 goals:\\n\", teams_more_than_6_goals)\n",
    "\n",
    "\n"
   ]
  },
  {
   "cell_type": "code",
   "execution_count": 8,
   "metadata": {},
   "outputs": [
    {
     "name": "stdout",
     "output_type": "stream",
     "text": [
      "\n",
      "Teams starting with 'G':\n",
      "    Unnamed: 0     Team  Goals  Shots on target  Shots off target  \\\n",
      "5           5  Germany     10               32                32   \n",
      "6           6   Greece      5                8                18   \n",
      "\n",
      "  Shooting Accuracy % Goals-to-shots  Total shots (inc. Blocked)  \\\n",
      "5            47.80%           15.60%                          80   \n",
      "6            30.70%           19.20%                          32   \n",
      "\n",
      "   Hit Woodwork  Penalty goals  ...  Saves made  Saves-to-shots ratio  \\\n",
      "5             2              1  ...          10                62.60%   \n",
      "6             1              1  ...          13                65.10%   \n",
      "\n",
      "   Fouls Won  Fouls Conceded Offsides  Yellow Cards  Red Cards  Subs on  \\\n",
      "5         63              49       12             4          0       15   \n",
      "6         67              48       12             9          1       12   \n",
      "\n",
      "   Subs off  Players Used  \n",
      "5        15            17  \n",
      "6        12            20  \n",
      "\n",
      "[2 rows x 36 columns]\n"
     ]
    }
   ],
   "source": [
    "# 7. In các đội mà tên bắt đầu bằng 'G' (gợi ý: dùng str.startswith())\n",
    "teams_starting_with_G = euro12[euro12['Team'].str.startswith('G')]\n",
    "print(\"\\nTeams starting with 'G':\\n\", teams_starting_with_G)\n",
    "\n"
   ]
  },
  {
   "cell_type": "code",
   "execution_count": 10,
   "metadata": {},
   "outputs": [
    {
     "name": "stdout",
     "output_type": "stream",
     "text": [
      "\n",
      "First 7 columns of euro12:\n",
      "     Unnamed: 0                 Team  Goals  Shots on target  Shots off target  \\\n",
      "0            0              Croatia      4               13                12   \n",
      "1            1       Czech Republic      4               13                18   \n",
      "2            2              Denmark      4               10                10   \n",
      "3            3              England      5               11                18   \n",
      "4            4               France      3               22                24   \n",
      "5            5              Germany     10               32                32   \n",
      "6            6               Greece      5                8                18   \n",
      "7            7                Italy      6               34                45   \n",
      "8            8          Netherlands      2               12                36   \n",
      "9            9               Poland      2               15                23   \n",
      "10          10             Portugal      6               22                42   \n",
      "11          11  Republic of Ireland      1                7                12   \n",
      "12          12               Russia      5                9                31   \n",
      "13          13                Spain     12               42                33   \n",
      "14          14               Sweden      5               17                19   \n",
      "15          15              Ukraine      2                7                26   \n",
      "\n",
      "   Shooting Accuracy % Goals-to-shots  \n",
      "0             51.90%           16.00%  \n",
      "1             41.90%           12.90%  \n",
      "2             50.00%           20.00%  \n",
      "3             50.00%           17.20%  \n",
      "4             37.90%            6.50%  \n",
      "5             47.80%           15.60%  \n",
      "6             30.70%           19.20%  \n",
      "7             43.00%            7.50%  \n",
      "8             25.00%            4.10%  \n",
      "9             39.40%            5.20%  \n",
      "10            34.30%            9.30%  \n",
      "11            36.80%            5.20%  \n",
      "12            22.50%           12.50%  \n",
      "13            55.90%           16.00%  \n",
      "14            47.20%           13.80%  \n",
      "15            21.20%            6.00%  \n"
     ]
    }
   ],
   "source": [
    "# 8. In 7 cột đầu của euro12.\n",
    "print(\"\\nFirst 7 columns of euro12:\\n\", euro12.iloc[:, :7])\n",
    "\n"
   ]
  },
  {
   "cell_type": "code",
   "execution_count": 11,
   "metadata": {},
   "outputs": [
    {
     "name": "stdout",
     "output_type": "stream",
     "text": [
      "\n",
      "All columns except the last 3 columns:\n",
      "     Unnamed: 0                 Team  Goals  Shots on target  Shots off target  \\\n",
      "0            0              Croatia      4               13                12   \n",
      "1            1       Czech Republic      4               13                18   \n",
      "2            2              Denmark      4               10                10   \n",
      "3            3              England      5               11                18   \n",
      "4            4               France      3               22                24   \n",
      "5            5              Germany     10               32                32   \n",
      "6            6               Greece      5                8                18   \n",
      "7            7                Italy      6               34                45   \n",
      "8            8          Netherlands      2               12                36   \n",
      "9            9               Poland      2               15                23   \n",
      "10          10             Portugal      6               22                42   \n",
      "11          11  Republic of Ireland      1                7                12   \n",
      "12          12               Russia      5                9                31   \n",
      "13          13                Spain     12               42                33   \n",
      "14          14               Sweden      5               17                19   \n",
      "15          15              Ukraine      2                7                26   \n",
      "\n",
      "   Shooting Accuracy % Goals-to-shots  Total shots (inc. Blocked)  \\\n",
      "0             51.90%           16.00%                          32   \n",
      "1             41.90%           12.90%                          39   \n",
      "2             50.00%           20.00%                          27   \n",
      "3             50.00%           17.20%                          40   \n",
      "4             37.90%            6.50%                          65   \n",
      "5             47.80%           15.60%                          80   \n",
      "6             30.70%           19.20%                          32   \n",
      "7             43.00%            7.50%                         110   \n",
      "8             25.00%            4.10%                          60   \n",
      "9             39.40%            5.20%                          48   \n",
      "10            34.30%            9.30%                          82   \n",
      "11            36.80%            5.20%                          28   \n",
      "12            22.50%           12.50%                          59   \n",
      "13            55.90%           16.00%                         100   \n",
      "14            47.20%           13.80%                          39   \n",
      "15            21.20%            6.00%                          38   \n",
      "\n",
      "    Hit Woodwork  Penalty goals  ...  Clean Sheets  Blocks  Goals conceded  \\\n",
      "0              0              0  ...             0      10               3   \n",
      "1              0              0  ...             1      10               6   \n",
      "2              1              0  ...             1      10               5   \n",
      "3              0              0  ...             2      29               3   \n",
      "4              1              0  ...             1       7               5   \n",
      "5              2              1  ...             1      11               6   \n",
      "6              1              1  ...             1      23               7   \n",
      "7              2              0  ...             2      18               7   \n",
      "8              2              0  ...             0       9               5   \n",
      "9              0              0  ...             0       8               3   \n",
      "10             6              0  ...             2      11               4   \n",
      "11             0              0  ...             0      23               9   \n",
      "12             2              0  ...             0       8               3   \n",
      "13             0              1  ...             5       8               1   \n",
      "14             3              0  ...             1      12               5   \n",
      "15             0              0  ...             0       4               4   \n",
      "\n",
      "    Saves made Saves-to-shots ratio  Fouls Won  Fouls Conceded  Offsides  \\\n",
      "0           13               81.30%         41              62         2   \n",
      "1            9               60.10%         53              73         8   \n",
      "2           10               66.70%         25              38         8   \n",
      "3           22               88.10%         43              45         6   \n",
      "4            6               54.60%         36              51         5   \n",
      "5           10               62.60%         63              49        12   \n",
      "6           13               65.10%         67              48        12   \n",
      "7           20               74.10%        101              89        16   \n",
      "8           12               70.60%         35              30         3   \n",
      "9            6               66.70%         48              56         3   \n",
      "10          10               71.50%         73              90        10   \n",
      "11          17               65.40%         43              51        11   \n",
      "12          10               77.00%         34              43         4   \n",
      "13          15               93.80%        102              83        19   \n",
      "14           8               61.60%         35              51         7   \n",
      "15          13               76.50%         48              31         4   \n",
      "\n",
      "    Yellow Cards  Red Cards  \n",
      "0              9          0  \n",
      "1              7          0  \n",
      "2              4          0  \n",
      "3              5          0  \n",
      "4              6          0  \n",
      "5              4          0  \n",
      "6              9          1  \n",
      "7             16          0  \n",
      "8              5          0  \n",
      "9              7          1  \n",
      "10            12          0  \n",
      "11             6          1  \n",
      "12             6          0  \n",
      "13            11          0  \n",
      "14             7          0  \n",
      "15             5          0  \n",
      "\n",
      "[16 rows x 33 columns]\n"
     ]
    }
   ],
   "source": [
    "# 9. In tất cả các cột, trừ 3 cột cuối.\n",
    "print(\"\\nAll columns except the last 3 columns:\\n\", euro12.iloc[:, :-3])\n",
    "\n"
   ]
  },
  {
   "cell_type": "code",
   "execution_count": 12,
   "metadata": {},
   "outputs": [
    {
     "name": "stdout",
     "output_type": "stream",
     "text": [
      "\n",
      "Selected columns:\n",
      "                    Team  Goals Shooting Accuracy  Yellow Cards  Red Cards\n",
      "0               Croatia      4            51.90%             9          0\n",
      "1        Czech Republic      4            41.90%             7          0\n",
      "2               Denmark      4            50.00%             4          0\n",
      "3               England      5            50.00%             5          0\n",
      "4                France      3            37.90%             6          0\n",
      "5               Germany     10            47.80%             4          0\n",
      "6                Greece      5            30.70%             9          1\n",
      "7                 Italy      6            43.00%            16          0\n",
      "8           Netherlands      2            25.00%             5          0\n",
      "9                Poland      2            39.40%             7          1\n",
      "10             Portugal      6            34.30%            12          0\n",
      "11  Republic of Ireland      1            36.80%             6          1\n",
      "12               Russia      5            22.50%             6          0\n",
      "13                Spain     12            55.90%            11          0\n",
      "14               Sweden      5            47.20%             7          0\n",
      "15              Ukraine      2            21.20%             5          0\n"
     ]
    }
   ],
   "source": [
    "# 10. In các cột Team, Goals, Shooting Accuracy, Yellow Cards, Red Cards.\n",
    "selected_columns = ['Team', 'Goals', 'Shooting Accuracy', 'Yellow Cards', 'Red Cards']\n",
    "print(\"\\nSelected columns:\\n\", euro12[selected_columns])\n",
    "\n"
   ]
  },
  {
   "cell_type": "code",
   "execution_count": 13,
   "metadata": {},
   "outputs": [
    {
     "name": "stdout",
     "output_type": "stream",
     "text": [
      "\n",
      "Selected teams columns:\n",
      "        Team Shooting Accuracy\n",
      "3   England            50.00%\n",
      "7     Italy            43.00%\n",
      "12   Russia            22.50%\n"
     ]
    }
   ],
   "source": [
    "# 11. In các cột chỉ hiển thị 'Team','Shooting Accuracy' từ 'England', 'Italy', 'Russia'.\n",
    "selected_teams = euro12[euro12['Team'].isin(['England', 'Italy', 'Russia'])]\n",
    "print(\"\\nSelected teams columns:\\n\", selected_teams[['Team', 'Shooting Accuracy']])"
   ]
  }
 ],
 "metadata": {
  "kernelspec": {
   "display_name": "Python 3",
   "language": "python",
   "name": "python3"
  },
  "language_info": {
   "codemirror_mode": {
    "name": "ipython",
    "version": 3
   },
   "file_extension": ".py",
   "mimetype": "text/x-python",
   "name": "python",
   "nbconvert_exporter": "python",
   "pygments_lexer": "ipython3",
   "version": "3.6.8"
  }
 },
 "nbformat": 4,
 "nbformat_minor": 2
}
